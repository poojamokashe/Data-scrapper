{
 "cells": [
  {
   "cell_type": "code",
   "execution_count": 74,
   "id": "eadb9af8",
   "metadata": {
    "scrolled": false
   },
   "outputs": [
    {
     "name": "stdout",
     "output_type": "stream",
     "text": [
      "Requirement already satisfied: autoscraper in c:\\users\\admin\\appdata\\local\\programs\\python\\python39\\lib\\site-packages (1.1.12)\n",
      "Requirement already satisfied: lxml in c:\\users\\admin\\appdata\\local\\programs\\python\\python39\\lib\\site-packages (from autoscraper) (4.8.0)\n",
      "Requirement already satisfied: requests in c:\\users\\admin\\appdata\\local\\programs\\python\\python39\\lib\\site-packages (from autoscraper) (2.26.0)\n",
      "Requirement already satisfied: bs4 in c:\\users\\admin\\appdata\\local\\programs\\python\\python39\\lib\\site-packages (from autoscraper) (0.0.1)\n",
      "Requirement already satisfied: beautifulsoup4 in c:\\users\\admin\\appdata\\local\\programs\\python\\python39\\lib\\site-packages (from bs4->autoscraper) (4.10.0)\n",
      "Requirement already satisfied: certifi>=2017.4.17 in c:\\users\\admin\\appdata\\local\\programs\\python\\python39\\lib\\site-packages (from requests->autoscraper) (2021.10.8)\n",
      "Requirement already satisfied: urllib3<1.27,>=1.21.1 in c:\\users\\admin\\appdata\\local\\programs\\python\\python39\\lib\\site-packages (from requests->autoscraper) (1.26.7)\n",
      "Requirement already satisfied: charset-normalizer~=2.0.0 in c:\\users\\admin\\appdata\\local\\programs\\python\\python39\\lib\\site-packages (from requests->autoscraper) (2.0.7)\n",
      "Requirement already satisfied: idna<4,>=2.5 in c:\\users\\admin\\appdata\\local\\programs\\python\\python39\\lib\\site-packages (from requests->autoscraper) (3.3)\n",
      "Requirement already satisfied: soupsieve>1.2 in c:\\users\\admin\\appdata\\local\\programs\\python\\python39\\lib\\site-packages (from beautifulsoup4->bs4->autoscraper) (2.3.1)\n",
      "Note: you may need to restart the kernel to use updated packages.\n"
     ]
    }
   ],
   "source": [
    "pip install autoscraper"
   ]
  },
  {
   "cell_type": "code",
   "execution_count": 75,
   "id": "bfa6dc71",
   "metadata": {},
   "outputs": [],
   "source": [
    "from autoscraper import AutoScraper"
   ]
  },
  {
   "cell_type": "code",
   "execution_count": 76,
   "id": "c87f64e6",
   "metadata": {},
   "outputs": [],
   "source": [
    "flipcart_url = \"https://www.flipkart.com/search?q=historical+books&sid=bks&as=on&as-show=on&otracker=AS_QueryStore_HistoryAutoSuggest_1_9_na_na_na&otracker1=AS_QueryStore_HistoryAutoSuggest_1_9_na_na_na&as-pos=1&as-type=HISTORY&suggestionId=historical+books%7CBooks&requestId=23faca62-8ae0-433d-90b9-5544c3d9f8b8\"\n",
    "wanted_list = [\"₹419\", \"Alexander the Great\"]\n"
   ]
  },
  {
   "cell_type": "code",
   "execution_count": 77,
   "id": "7a2fd1a8",
   "metadata": {},
   "outputs": [
    {
     "name": "stdout",
     "output_type": "stream",
     "text": [
      "['₹419', '₹243', '₹200', '₹192', '₹161', '₹202', '₹301', '₹207', '₹206', '₹345', '₹150', '₹319', '₹674', '₹226', '₹208', '₹89', '₹210', '₹547', '₹271', '₹680', '₹330', '₹312', '₹1,399', '₹346', '₹199', '₹1,574', '₹1,796', '₹1,780', '₹246', '₹185', '₹173', 'Alexander the Great', 'Aurangzeb', 'Mein Kampf', 'An Indian Spy in Pakistan', 'JAIL DIARY OF BHAGAT SINGH', 'The Hidden Hindu', 'Chanakya Neeti', 'Krishna Yogeshvara', 'The Prince And The Nightingale', \"Gulliver's Travels\", 'Rau', 'Napoleon Bonaparte', 'The Great Alone', 'THE BLUE LOTUS', 'Pride & Prejudice', 'Adolf Hitler', 'Indira Gandhi: the Story of a Leader', 'The Diary of a Young Girl', 'The Brave', 'Bharat Ka Veer Yoddha Maharana Pratap', \"India's Most Fearless 2\", 'Sita - Mithila Ki Yoddha', 'Good Night Stories for Rebel Girls', 'China Room', 'War Lord', 'The Evening and the Morning', 'The Burning Of The World', 'Lahore', 'David Copperfield', 'Jane Eyre', 'Mein Kampf  - no with 0 Disc', 'The Rise of Sivagami', 'Sita - Mithilar Yoddha  - Sita - Warrior of Mithila']\n"
     ]
    }
   ],
   "source": [
    "scraper = AutoScraper()\n",
    "result = scraper.build(flipcart_url, wanted_list)\n",
    "print(result)"
   ]
  },
  {
   "cell_type": "code",
   "execution_count": 78,
   "id": "68943d1d",
   "metadata": {},
   "outputs": [
    {
     "data": {
      "text/plain": [
       "{'rule_w83g': ['₹419',\n",
       "  '₹243',\n",
       "  '₹200',\n",
       "  '₹192',\n",
       "  '₹161',\n",
       "  '₹200',\n",
       "  '₹202',\n",
       "  '₹301',\n",
       "  '₹206',\n",
       "  '₹271',\n",
       "  '₹345',\n",
       "  '₹319',\n",
       "  '₹674',\n",
       "  '₹226',\n",
       "  '₹192',\n",
       "  '₹89',\n",
       "  '₹210',\n",
       "  '₹200',\n",
       "  '₹547',\n",
       "  '₹330',\n",
       "  '₹319',\n",
       "  '₹346',\n",
       "  '₹312',\n",
       "  '₹185',\n",
       "  '₹199',\n",
       "  '₹1,574',\n",
       "  '₹1,796',\n",
       "  '₹1,780',\n",
       "  '₹200',\n",
       "  '₹246',\n",
       "  '₹200',\n",
       "  '₹200',\n",
       "  '₹200',\n",
       "  '₹173',\n",
       "  '₹167',\n",
       "  '₹322',\n",
       "  '₹173',\n",
       "  '₹363',\n",
       "  '₹1,188',\n",
       "  '₹877'],\n",
       " 'rule_pe7a': ['Alexander the Great',\n",
       "  'Aurangzeb',\n",
       "  'Mein Kampf',\n",
       "  'An Indian Spy in Pakistan',\n",
       "  'JAIL DIARY OF BHAGAT SINGH',\n",
       "  'The Hidden Hindu',\n",
       "  'Chanakya Neeti',\n",
       "  'Krishna Yogeshvara',\n",
       "  \"Gulliver's Travels\",\n",
       "  'Sita - Mithila Ki Yoddha',\n",
       "  'Rau',\n",
       "  'The Great Alone',\n",
       "  'THE BLUE LOTUS',\n",
       "  'Pride & Prejudice',\n",
       "  'Indira Gandhi: the Story of a Leader',\n",
       "  'The Diary of a Young Girl',\n",
       "  'The Brave',\n",
       "  \"India's Most Fearless 2\",\n",
       "  'Mein Kampf',\n",
       "  'China Room',\n",
       "  'War Lord',\n",
       "  'Lahore',\n",
       "  'The Evening and the Morning',\n",
       "  'The Rise of Sivagami',\n",
       "  'Pride & Prejudice',\n",
       "  'David Copperfield',\n",
       "  'Jane Eyre',\n",
       "  'Jane Eyre',\n",
       "  'Mein Kampf',\n",
       "  'Mein Kampf  - no with 0 Disc',\n",
       "  'Mein Kampf',\n",
       "  'Mein Kampf',\n",
       "  'Mein Kampf',\n",
       "  'Sita - Mithilar Yoddha  - Sita - Warrior of Mithila',\n",
       "  'The Pull of the Stars',\n",
       "  'The Nightingale',\n",
       "  'The ILIAD',\n",
       "  'Kosla',\n",
       "  'Jane Eyre',\n",
       "  'Jane Eyre'],\n",
       " 'rule_3ir0': ['Alexander the Great',\n",
       "  'Aurangzeb',\n",
       "  'Mein Kampf',\n",
       "  'An Indian Spy in Pakistan',\n",
       "  'JAIL DIARY OF BHAGAT SINGH',\n",
       "  'The Hidden Hindu',\n",
       "  'Chanakya Neeti',\n",
       "  'Krishna Yogeshvara',\n",
       "  \"Gulliver's Travels\",\n",
       "  'Sita - Mithila Ki Yoddha',\n",
       "  'Rau',\n",
       "  'The Great Alone',\n",
       "  'THE BLUE LOTUS',\n",
       "  'Pride & Prejudice',\n",
       "  'Indira Gandhi: the Story of a Leader',\n",
       "  'The Diary of a Young Girl',\n",
       "  'The Brave',\n",
       "  \"India's Most Fearless 2\",\n",
       "  'Mein Kampf',\n",
       "  'China Room',\n",
       "  'War Lord',\n",
       "  'Lahore',\n",
       "  'The Evening and the Morning',\n",
       "  'The Rise of Sivagami',\n",
       "  'Pride & Prejudice',\n",
       "  'David Copperfield',\n",
       "  'Jane Eyre',\n",
       "  'Jane Eyre',\n",
       "  'Mein Kampf',\n",
       "  'Mein Kampf  - no with 0 Disc',\n",
       "  'Mein Kampf',\n",
       "  'Mein Kampf',\n",
       "  'Mein Kampf',\n",
       "  'Sita - Mithilar Yoddha  - Sita - Warrior of Mithila',\n",
       "  'The Pull of the Stars',\n",
       "  'The Nightingale',\n",
       "  'The ILIAD',\n",
       "  'Kosla',\n",
       "  'Jane Eyre',\n",
       "  'Jane Eyre']}"
      ]
     },
     "execution_count": 78,
     "metadata": {},
     "output_type": "execute_result"
    }
   ],
   "source": [
    "scraper.get_result_similar(flipcart_url, grouped = True)"
   ]
  },
  {
   "cell_type": "code",
   "execution_count": 82,
   "id": "06dd7e9f",
   "metadata": {},
   "outputs": [],
   "source": [
    "scraper.set_rule_aliases({  'rule_pe7a':  'Title', 'rule_w83g':  'Price'})\n",
    "scraper.keep_rules([ 'rule_pe7a' , 'rule_w83g'])\n",
    "scraper.save('flipcart_search')"
   ]
  },
  {
   "cell_type": "code",
   "execution_count": 83,
   "id": "695a7f4c",
   "metadata": {},
   "outputs": [
    {
     "data": {
      "text/plain": [
       "['Alexander the Great',\n",
       " 'Aurangzeb',\n",
       " 'Mein Kampf',\n",
       " 'An Indian Spy in Pakistan',\n",
       " 'JAIL DIARY OF BHAGAT SINGH',\n",
       " 'The Hidden Hindu',\n",
       " 'Chanakya Neeti',\n",
       " 'Krishna Yogeshvara',\n",
       " \"Gulliver's Travels\",\n",
       " 'Sita - Mithila Ki Yoddha',\n",
       " 'Rau',\n",
       " 'The Great Alone',\n",
       " 'THE BLUE LOTUS',\n",
       " 'Pride & Prejudice',\n",
       " 'Indira Gandhi: the Story of a Leader',\n",
       " 'The Diary of a Young Girl',\n",
       " 'The Brave',\n",
       " \"India's Most Fearless 2\",\n",
       " 'Mein Kampf',\n",
       " 'China Room',\n",
       " 'War Lord',\n",
       " 'Lahore',\n",
       " 'The Evening and the Morning',\n",
       " 'The Rise of Sivagami',\n",
       " 'Pride & Prejudice',\n",
       " 'David Copperfield',\n",
       " 'Jane Eyre',\n",
       " 'Jane Eyre',\n",
       " 'Mein Kampf',\n",
       " 'Mein Kampf  - no with 0 Disc',\n",
       " 'Mein Kampf',\n",
       " 'Mein Kampf',\n",
       " 'Mein Kampf',\n",
       " 'Sita - Mithilar Yoddha  - Sita - Warrior of Mithila',\n",
       " 'The Pull of the Stars',\n",
       " 'The Nightingale',\n",
       " 'The ILIAD',\n",
       " 'Kosla',\n",
       " 'Jane Eyre',\n",
       " 'Jane Eyre']"
      ]
     },
     "execution_count": 83,
     "metadata": {},
     "output_type": "execute_result"
    }
   ],
   "source": [
    "results=scraper.get_result_similar(\"https://www.flipkart.com/search?q=historical+books&sid=bks&as=on&as-show=on&otracker=AS_QueryStore_HistoryAutoSuggest_1_9_na_na_na&otracker1=AS_QueryStore_HistoryAutoSuggest_1_9_na_na_na&as-pos=1&as-type=HISTORY&suggestionId=historical+books%7CBooks&requestId=23faca62-8ae0-433d-90b9-5544c3d9f8b8\", group_by_alias=True)\n",
    "results['Title']"
   ]
  },
  {
   "cell_type": "code",
   "execution_count": 84,
   "id": "b2e29a30",
   "metadata": {},
   "outputs": [
    {
     "data": {
      "text/plain": [
       "['₹419',\n",
       " '₹243',\n",
       " '₹200',\n",
       " '₹192',\n",
       " '₹161',\n",
       " '₹200',\n",
       " '₹202',\n",
       " '₹301',\n",
       " '₹206',\n",
       " '₹271',\n",
       " '₹345',\n",
       " '₹319',\n",
       " '₹674',\n",
       " '₹226',\n",
       " '₹192',\n",
       " '₹89',\n",
       " '₹210',\n",
       " '₹200',\n",
       " '₹547',\n",
       " '₹330',\n",
       " '₹319',\n",
       " '₹346',\n",
       " '₹312',\n",
       " '₹185',\n",
       " '₹199',\n",
       " '₹1,574',\n",
       " '₹1,796',\n",
       " '₹1,780',\n",
       " '₹200',\n",
       " '₹246',\n",
       " '₹200',\n",
       " '₹200',\n",
       " '₹200',\n",
       " '₹173',\n",
       " '₹167',\n",
       " '₹322',\n",
       " '₹173',\n",
       " '₹363',\n",
       " '₹1,188',\n",
       " '₹877']"
      ]
     },
     "execution_count": 84,
     "metadata": {},
     "output_type": "execute_result"
    }
   ],
   "source": [
    "results['Price']"
   ]
  }
 ],
 "metadata": {
  "kernelspec": {
   "display_name": "Python 3 (ipykernel)",
   "language": "python",
   "name": "python3"
  },
  "language_info": {
   "codemirror_mode": {
    "name": "ipython",
    "version": 3
   },
   "file_extension": ".py",
   "mimetype": "text/x-python",
   "name": "python",
   "nbconvert_exporter": "python",
   "pygments_lexer": "ipython3",
   "version": "3.9.7"
  }
 },
 "nbformat": 4,
 "nbformat_minor": 5
}
